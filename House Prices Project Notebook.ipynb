{
 "cells": [
  {
   "cell_type": "markdown",
   "source": [
    "# Note for Maya\\Yair\\Eran:\n",
    "This notebook is for the final submission, and will contain the entire project flow.\n",
    "In order to update this document please submit a Purll Request from your branch to the master branch, with the other team mates as reviewers.\n",
    "\n",
    "Until then, please develop in a separate notebook, with the name '{your_name}_in_progress.ipynb'.\n",
    "Updates to '...in_progress' notebook should not be pushed to master."
   ],
   "metadata": {
    "collapsed": false
   }
  },
  {
   "cell_type": "markdown",
   "metadata": {},
   "source": [
    "# House Prices - Regression Predictions YData 2024\n",
    "Team: TODO\n",
    "\n",
    "Team mates: Eran T, Maya L, Yair BH\n",
    "\n",
    "TODO: add table of content with links"
   ]
  },
  {
   "cell_type": "markdown",
   "source": [
    "## Part 1 - EDA"
   ],
   "metadata": {}
  },
  {
   "cell_type": "code",
   "outputs": [],
   "source": [
    "from utils import load_house_prices_data\n",
    "\n",
    "house_prices_all_data = load_house_prices_data('all')"
   ],
   "metadata": {
    "ExecuteTime": {
     "end_time": "2024-01-30T10:14:07.788550400Z",
     "start_time": "2024-01-30T10:14:07.657564900Z"
    }
   },
   "execution_count": 8
  },
  {
   "cell_type": "markdown",
   "source": [
    "### 1.1 Which 3 features have the highest number of missing values?"
   ],
   "metadata": {
    "collapsed": false
   }
  },
  {
   "cell_type": "code",
   "outputs": [],
   "source": [
    "# todo"
   ],
   "metadata": {
    "collapsed": false
   }
  },
  {
   "cell_type": "markdown",
   "source": [
    "### 1.2 How does the price behave over the years?"
   ],
   "metadata": {
    "collapsed": false
   }
  },
  {
   "cell_type": "code",
   "outputs": [],
   "source": [
    "# todo"
   ],
   "metadata": {
    "collapsed": false
   }
  },
  {
   "cell_type": "markdown",
   "source": [
    "### 1.3 Plotting feature distribution using histograms"
   ],
   "metadata": {
    "collapsed": false
   }
  },
  {
   "cell_type": "code",
   "outputs": [],
   "source": [
    "# todo"
   ],
   "metadata": {
    "collapsed": false,
    "ExecuteTime": {
     "end_time": "2024-01-30T09:33:45.371474600Z",
     "start_time": "2024-01-30T09:33:45.250802200Z"
    }
   },
   "execution_count": 3
  },
  {
   "cell_type": "markdown",
   "source": [
    "### 1.4 Computing Feature Correlation and Ordering by the Correlation"
   ],
   "metadata": {
    "collapsed": false
   }
  },
  {
   "cell_type": "code",
   "outputs": [],
   "source": [
    "# todo"
   ],
   "metadata": {
    "collapsed": false,
    "ExecuteTime": {
     "end_time": "2024-01-30T09:35:02.876373600Z",
     "start_time": "2024-01-30T09:35:02.790965100Z"
    }
   },
   "execution_count": 4
  },
  {
   "cell_type": "markdown",
   "source": [
    "### 1.5 More EDA that will help us understand the data and support our modelling decisions"
   ],
   "metadata": {
    "collapsed": false
   }
  },
  {
   "cell_type": "code",
   "outputs": [],
   "source": [
    "# todo - what will be out modeling decision?\n",
    "# todo - what graphs will support this?"
   ],
   "metadata": {
    "collapsed": false,
    "ExecuteTime": {
     "end_time": "2024-01-30T09:36:30.084256Z",
     "start_time": "2024-01-30T09:36:29.951736100Z"
    }
   },
   "execution_count": 5
  },
  {
   "cell_type": "markdown",
   "source": [
    "## Part 2 - Baseline Model"
   ],
   "metadata": {
    "collapsed": false
   }
  },
  {
   "cell_type": "code",
   "outputs": [],
   "source": [
    "# todo train the simplest baseline model possible\n",
    "# todo share baseline model results\n",
    "# todo submit your baseline results to kaggle website"
   ],
   "metadata": {
    "collapsed": false,
    "ExecuteTime": {
     "end_time": "2024-01-30T09:39:31.305889500Z",
     "start_time": "2024-01-30T09:39:31.132149200Z"
    }
   },
   "execution_count": 6
  }
 ],
 "metadata": {
  "kernelspec": {
   "display_name": "py4dp",
   "language": "python",
   "name": "python3"
  },
  "language_info": {
   "codemirror_mode": {
    "name": "ipython",
    "version": 3
   },
   "file_extension": ".py",
   "mimetype": "text/x-python",
   "name": "python",
   "nbconvert_exporter": "python",
   "pygments_lexer": "ipython3",
   "version": "3.10.13"
  }
 },
 "nbformat": 4,
 "nbformat_minor": 2
}
