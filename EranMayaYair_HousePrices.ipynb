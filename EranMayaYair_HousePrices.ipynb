{
 "cells": [
  {
   "cell_type": "markdown",
   "source": [
    "# Note for Maya\\Yair\\Eran:\n",
    "This notebook is for the final submission, and will contain the entire project flow.\n",
    "In order to update this document please submit a Purll Request from your branch to the master branch, with the other team mates as reviewers.\n",
    "\n",
    "Until then, please develop in a separate notebook, with the name '{your_name}_in_progress.ipynb'.\n",
    "Updates to '...in_progress' notebook should not be pushed to master."
   ],
   "metadata": {
    "collapsed": false
   }
  },
  {
   "cell_type": "markdown",
   "metadata": {},
   "source": [
    "# House Prices - Regression Predictions YData 2024\n",
    "Team: TODO\n",
    "\n",
    "Team mates: Eran T, Maya L, Yair BH"
   ]
  },
  {
   "cell_type": "markdown",
   "metadata": {},
   "source": [
    "## Part 1 - EDA"
   ]
  },
  {
   "cell_type": "code",
   "execution_count": 2,
   "metadata": {},
   "outputs": [],
   "source": [
    "from utils import load_house_prices_data\n",
    "\n",
    "load_house_prices_data()"
   ]
  }
 ],
 "metadata": {
  "kernelspec": {
   "display_name": "py4dp",
   "language": "python",
   "name": "python3"
  },
  "language_info": {
   "codemirror_mode": {
    "name": "ipython",
    "version": 3
   },
   "file_extension": ".py",
   "mimetype": "text/x-python",
   "name": "python",
   "nbconvert_exporter": "python",
   "pygments_lexer": "ipython3",
   "version": "3.10.13"
  }
 },
 "nbformat": 4,
 "nbformat_minor": 2
}
