{
 "cells": [
  {
   "cell_type": "markdown",
   "metadata": {},
   "source": [
    "# House Prices - Regression Predictions YData 2024\n",
    "Team: AcadEMY\n",
    "\n",
    "Team mates: Eran T, Maya L, Yair BH, Adir Golan.\n",
    "\n",
    "TODO: add table of content with links"
   ]
  },
  {
   "cell_type": "markdown",
   "metadata": {},
   "source": [
    "## Part 1 - EDA"
   ]
  },
  {
   "cell_type": "code",
   "execution_count": null,
   "metadata": {
    "ExecuteTime": {
     "end_time": "2024-02-06T14:25:21.117926400Z",
     "start_time": "2024-02-06T14:25:19.996682500Z"
    },
    "tags": []
   },
   "outputs": [],
   "source": [
    "from utils import load_house_prices_data\n",
    "import matplotlib.pyplot as plt \n",
    "\n",
    "train_origin_df = load_house_prices_data('train')\n",
    "train_features = train_origin_df.drop('SalePrice', axis='columns')"
   ]
  },
  {
   "cell_type": "markdown",
   "metadata": {},
   "source": [
    "### 1.1 Which 3 features have the highest number of missing values?"
   ]
  },
  {
   "cell_type": "code",
   "execution_count": null,
   "metadata": {
    "ExecuteTime": {
     "end_time": "2024-02-06T14:25:21.990829700Z",
     "start_time": "2024-02-06T14:25:21.122406100Z"
    },
    "collapsed": false,
    "jupyter": {
     "outputs_hidden": false
    },
    "tags": []
   },
   "outputs": [],
   "source": [
    "from utils import calc_num_missing_vals_per_col, np\n",
    "from plot_utils import plot_num_missing_values\n",
    "\n",
    "num_of_nans = calc_num_missing_vals_per_col(train_features)\n",
    "\n",
    "plot_num_missing_values(num_of_nans)\n",
    "\n",
    "max_nans = num_of_nans.nlargest(3).index\n",
    "print(f\"Top 3 features with the most missing values: {max_nans.values}\")"
   ]
  },
  {
   "cell_type": "markdown",
   "metadata": {},
   "source": [
    "### 1.2 How does the price behave over the years?"
   ]
  },
  {
   "cell_type": "code",
   "execution_count": null,
   "metadata": {
    "ExecuteTime": {
     "end_time": "2024-02-06T14:25:22.206839500Z",
     "start_time": "2024-02-06T14:25:21.991922500Z"
    },
    "collapsed": false,
    "jupyter": {
     "outputs_hidden": false
    },
    "tags": []
   },
   "outputs": [],
   "source": [
    "from plot_utils import plot_price_dist_per_year\n",
    "\n",
    "plot_price_dist_per_year(train_origin_df)"
   ]
  },
  {
   "cell_type": "markdown",
   "metadata": {},
   "source": [
    "Graph Insight:\n",
    "Over the 4 years shown, the mean price have fluctuated; increasing until 2007, with a down movement overall."
   ]
  },
  {
   "cell_type": "markdown",
   "metadata": {},
   "source": [
    "### 1.3 Plotting feature distribution using histograms"
   ]
  },
  {
   "cell_type": "code",
   "execution_count": null,
   "metadata": {
    "ExecuteTime": {
     "end_time": "2024-02-06T14:25:28.476246200Z",
     "start_time": "2024-02-06T14:25:22.207868900Z"
    },
    "collapsed": false,
    "jupyter": {
     "outputs_hidden": false
    },
    "tags": []
   },
   "outputs": [],
   "source": [
    "from plot_utils import plot_column_histograms\n",
    "\n",
    "plot_column_histograms(train_origin_df)"
   ]
  },
  {
   "cell_type": "markdown",
   "metadata": {},
   "source": [
    "Graph insights:\n",
    "- Many unbalanced categorical features, including \"SaleType\",\"GarageCond\",\"PavedDrive\",\"Street\".\n",
    "- Some numerical feature resemble a normal distribution: \"OverallQual\",\"TotRmsAbvGrd\", \"GarageArea\".\n",
    "- There is a consistent increase in the number of houses built per year.\n",
    "- There is seasonality in the month sold - most sales happen in summer (June, July) and least happen in winter (September, October)."
   ]
  },
  {
   "cell_type": "markdown",
   "metadata": {},
   "source": [
    "### 1.4 Computing Feature Correlation to Label"
   ]
  },
  {
   "cell_type": "markdown",
   "metadata": {},
   "source": [
    "#### Numeric Features"
   ]
  },
  {
   "cell_type": "code",
   "execution_count": null,
   "metadata": {
    "ExecuteTime": {
     "end_time": "2024-02-06T14:25:28.830360700Z",
     "start_time": "2024-02-06T14:25:28.478387600Z"
    },
    "collapsed": false,
    "jupyter": {
     "outputs_hidden": false
    },
    "tags": []
   },
   "outputs": [],
   "source": [
    "from plot_utils import plot_numeric_features_correlation_to_target\n",
    "\n",
    "corr_vector = train_origin_df.select_dtypes(include='number').corr()['SalePrice'].sort_values().drop('SalePrice', axis=0)\n",
    "\n",
    "plot_numeric_features_correlation_to_target(corr_vector)"
   ]
  },
  {
   "cell_type": "markdown",
   "metadata": {},
   "source": [
    "Graph insights:\n",
    "- The number of kitchens above ground has the most negative correlation to the house price.\n",
    "- \"BsmtFinSF2\" has little to no correlation to the price.\n",
    "- \"OverallQual\" has the highest positive correlation, while \"OverallCond\" has somewhat negative correlation, meaning physical condition matters less than subjective measures.\n",
    "- The top 5 features correlated to price mean that people value quality, area of living and garage space. "
   ]
  },
  {
   "cell_type": "markdown",
   "metadata": {},
   "source": [
    "#### Categorical Features"
   ]
  },
  {
   "cell_type": "code",
   "execution_count": null,
   "metadata": {
    "ExecuteTime": {
     "end_time": "2024-02-06T14:25:29.241232900Z",
     "start_time": "2024-02-06T14:25:28.755889700Z"
    },
    "tags": []
   },
   "outputs": [],
   "source": [
    "\n",
    "from plot_utils import plot_head_and_tail_categorical_corr_to_target\n",
    "from utils import calc_categorical_feature_correlation_to_target\n",
    "\n",
    "sorted_correlation = calc_categorical_feature_correlation_to_target(train_origin_df)\n",
    "\n",
    "plot_head_and_tail_categorical_corr_to_target(sorted_correlation)"
   ]
  },
  {
   "cell_type": "markdown",
   "metadata": {},
   "source": [
    "### 1.5 More EDA that will help us understand the data and support our modelling decisions"
   ]
  },
  {
   "cell_type": "code",
   "execution_count": null,
   "metadata": {
    "ExecuteTime": {
     "end_time": "2024-02-06T14:25:29.295225300Z",
     "start_time": "2024-02-06T14:25:29.241232900Z"
    },
    "collapsed": false,
    "jupyter": {
     "outputs_hidden": false
    },
    "tags": []
   },
   "outputs": [],
   "source": [
    "# todo - what will be our modeling decision?\n",
    "# todo - what graphs will support this?"
   ]
  },
  {
   "cell_type": "markdown",
   "metadata": {
    "id": "LS5DPvxJeqxc",
    "tags": []
   },
   "source": [
    "#### Feature selection (searching features that can be dropped)\n",
    "The idea is that due to the large number of features in the original dataset (80, not including the target), it might be beneficial to reduce the number of features. We do this in different ways:"
   ]
  },
  {
   "cell_type": "markdown",
   "metadata": {
    "id": "jgjgCXDXfNm7"
   },
   "source": [
    "##### Highly correlated numerical features\n",
    "We looked for highly correlated features and decided to drop one of each pair:"
   ]
  },
  {
   "cell_type": "code",
   "execution_count": null,
   "metadata": {
    "ExecuteTime": {
     "end_time": "2024-02-06T14:25:29.305117300Z",
     "start_time": "2024-02-06T14:25:29.260855500Z"
    },
    "colab": {
     "base_uri": "https://localhost:8080/"
    },
    "id": "bTKLc9Cu6XJj",
    "outputId": "fa74c557-9584-4a95-874b-034f89e5c674"
   },
   "outputs": [],
   "source": [
    "from utils import calc_numeric_feature_correlation\n",
    "\n",
    "numeric_correlations = calc_numeric_feature_correlation(train_features)\n",
    "threshold = 0.7\n",
    "highly_correlated_numeric_features = [t for t in numeric_correlations if t[2] >= threshold]\n",
    "\n",
    "print(highly_correlated_numeric_features)"
   ]
  },
  {
   "cell_type": "code",
   "execution_count": null,
   "metadata": {
    "ExecuteTime": {
     "end_time": "2024-02-06T14:25:29.306190200Z",
     "start_time": "2024-02-06T14:25:29.289884200Z"
    },
    "id": "pXBgInBN2GMx"
   },
   "outputs": [],
   "source": [
    "#features to drop due to high correlation with another feature (one from each pair):\n",
    "# we drop features that are not common to all samples (e.g., all buildings must have YearBuilt but not necessarily GarageYrBlt)\n",
    "high_correlated_features_to_drop = ['GarageYrBlt', '1stFlrSF', 'TotRmsAbvGrd', 'GarageCars']"
   ]
  },
  {
   "cell_type": "markdown",
   "metadata": {
    "id": "2ugo9mbyfs18"
   },
   "source": [
    "##### Correlation of categorical object type features with the target\n",
    "By plotting the categorical distributions of each (categorical) feature with respect to the target, we can choose specific features that seem to hold few meaningful information (mostly features with approximately uniform distribution or highly imbalanced distribtion)."
   ]
  },
  {
   "cell_type": "code",
   "execution_count": null,
   "metadata": {
    "ExecuteTime": {
     "end_time": "2024-02-06T14:25:33.479220200Z",
     "start_time": "2024-02-06T14:25:29.305117300Z"
    },
    "colab": {
     "base_uri": "https://localhost:8080/",
     "height": 1000
    },
    "id": "Rwjsa8QB7tVn",
    "outputId": "ba515679-731d-4dc9-9b35-e0b756c9b2a6"
   },
   "outputs": [],
   "source": [
    "# Finding correlation (indirectly) between 'object' features and target:\n",
    "from plot_utils import plot_mean_price_and_stddev_per_category\n",
    "\n",
    "plot_mean_price_and_stddev_per_category(train_origin_df)"
   ]
  },
  {
   "cell_type": "code",
   "execution_count": null,
   "metadata": {
    "ExecuteTime": {
     "end_time": "2024-02-06T14:25:33.495465300Z",
     "start_time": "2024-02-06T14:25:33.481437500Z"
    },
    "id": "r9fzNI4F2lbI",
    "tags": []
   },
   "outputs": [],
   "source": [
    "# Object features that show low correlation to target (by indirect impression):\n",
    "cat_cols_uncor_w_target = ['LotShape', 'LandContour', 'LotConfig',\n",
    "                           'LandSlope', 'Condition2', 'RoofMatl', 'BsmtExposure',\n",
    "                           'BsmtFinType1', 'BsmtFinType2', 'Electrical',\n",
    "                           'Functional', 'Fence', 'MiscFeature'\n",
    "                           ]"
   ]
  },
  {
   "cell_type": "markdown",
   "metadata": {
    "id": "a25m3CbGiSFw"
   },
   "source": [
    "##### Numerical features with imbalanced data"
   ]
  },
  {
   "cell_type": "code",
   "execution_count": null,
   "metadata": {
    "ExecuteTime": {
     "end_time": "2024-02-06T14:25:33.941685100Z",
     "start_time": "2024-02-06T14:25:33.496584600Z"
    },
    "id": "jVlwx9WWAG0N"
   },
   "outputs": [],
   "source": [
    "#numerical features to drop due to high imbalance of the data:\n",
    "drop_imbalanced = ['Heating', 'Alley', 'Street', 'Utilities']\n"
   ]
  },
  {
   "cell_type": "code",
   "execution_count": null,
   "metadata": {
    "id": "TEQk8wGZbCKF"
   },
   "outputs": [],
   "source": [
    "# features with NaN values that relflect 'None' and should not be discraded (should be counted):\n",
    "convert_nan_to_str = ['BsmtQual', 'BsmtCond', 'FireplaceQu', 'GarageType',\n",
    "                      'GarageFinish', 'GarageQual', 'GarageCond'\n",
    "                      ]\n",
    "\n",
    "# features with same problem, but were already dropped due to other reasons:\n",
    "#['BsmtExposure', 'BsmtFinType1', 'PoolQC', 'MiscFeature]"
   ]
  },
  {
   "cell_type": "code",
   "execution_count": null,
   "metadata": {
    "ExecuteTime": {
     "end_time": "2024-02-06T14:25:33.941805200Z",
     "start_time": "2024-02-06T14:25:33.511749100Z"
    },
    "id": "ZeD1jDtq7ICn"
   },
   "outputs": [],
   "source": [
    "# filtering the data frame according to selected features to drop:\n",
    "filtered_df = train_origin_df.drop(high_correlated_features_to_drop, axis=1)\n",
    "filtered_df = filtered_df.drop(cat_cols_uncor_w_target, axis=1)\n",
    "filtered_df.drop(drop_imbalanced, axis=1, inplace=True)\n",
    "\n",
    "for feature in convert_nan_to_str:\n",
    "  filtered_df[feature].fillna(value='No', inplace=True)"
   ]
  },
  {
   "cell_type": "markdown",
   "metadata": {
    "id": "wxndRuEljBkl"
   },
   "source": [
    "##### Feature engineering on pool information + Filling na in LotFrontage"
   ]
  },
  {
   "cell_type": "code",
   "execution_count": null,
   "metadata": {
    "ExecuteTime": {
     "end_time": "2024-02-06T14:25:33.961188700Z",
     "start_time": "2024-02-06T14:25:33.528643700Z"
    },
    "id": "7t42tmMB966J"
   },
   "outputs": [],
   "source": [
    "from preprocessing import preprocess\n",
    "\n",
    "# only 7 samples with pool, but might be important, so:\n",
    "# we create new *binary* feature 'HavePool' and drop 'PoolQC' 'PoolArea'\n",
    "\n",
    "# And replacing missing values in 'LotFrontage' with mean values:\n",
    "\n",
    "filtered_preprocessed_df = preprocess(filtered_df)"
   ]
  },
  {
   "cell_type": "markdown",
   "metadata": {
    "id": "5szPvHBpjZzm"
   },
   "source": [
    "##### Treating missing values"
   ]
  },
  {
   "cell_type": "code",
   "execution_count": null,
   "metadata": {
    "id": "pWyfH2VLvPwf",
    "tags": []
   },
   "outputs": [],
   "source": [
    "# replacing missing values in 'LotFrontage' with mean values:\n",
    "mean_value_LotFrontage = filtered_df['LotFrontage'].mean()\n",
    "filtered_df['LotFrontage'].fillna(value=mean_value_LotFrontage, inplace=True)"
   ]
  },
  {
   "cell_type": "markdown",
   "metadata": {
    "tags": []
   },
   "source": [
    "#### Understanding The Data"
   ]
  },
  {
   "cell_type": "code",
   "execution_count": null,
   "metadata": {
    "ExecuteTime": {
     "end_time": "2024-02-06T14:25:34.427222100Z",
     "start_time": "2024-02-06T14:25:33.558149Z"
    },
    "tags": []
   },
   "outputs": [],
   "source": [
    "from plot_utils import plot_number_of_sales_and_prices_across_time\n",
    "\n",
    "plot_number_of_sales_and_prices_across_time(filtered_preprocessed_df)"
   ]
  },
  {
   "cell_type": "markdown",
   "metadata": {
    "tags": []
   },
   "source": [
    "The plots above demonstrate pretty clear seasonality in two features: \n",
    "* Sales seasonality: we can see a peak in the number of sales on a yearly basis around May-June, followed by a decrease in sales from June to January, with mainly January as the weakest month. \n",
    "* Price seasonality: We can see some seasonality in sales prices, albeit less consistent than in the number of sales case. \n",
    "\n",
    "Instrestingly, by looking at the combined plot we can see some periods where the number of sales drops down drastically while average price hits a peak. "
   ]
  },
  {
   "cell_type": "markdown",
   "metadata": {},
   "source": [
    "#### Influence of remodeling"
   ]
  },
  {
   "cell_type": "code",
   "execution_count": null,
   "metadata": {},
   "outputs": [],
   "source": [
    "housing_train.loc[housing_train['YearRemodAdd'].dropna() == housing_train['YearBuilt'].dropna()]['SalePrice'].mean()"
   ]
  },
  {
   "cell_type": "code",
   "execution_count": null,
   "metadata": {},
   "outputs": [],
   "source": [
    "housing_train['SalePrice'].mean()"
   ]
  },
  {
   "cell_type": "markdown",
   "metadata": {},
   "source": [
    "**The average price of houses that were never remodeled is a bit higher than the general average price.\n",
    "This finding raised suspicions until we thought about looking at the houses ages:**"
   ]
  },
  {
   "cell_type": "markdown",
   "metadata": {},
   "source": [
    "##### Average age of never remodeled houses:"
   ]
  },
  {
   "cell_type": "code",
   "execution_count": null,
   "metadata": {},
   "outputs": [],
   "source": [
    "2024 - housing_train.loc[housing_train['YearRemodAdd'].dropna() == housing_train['YearBuilt'].dropna()]['YearBuilt'].mean()"
   ]
  },
  {
   "cell_type": "markdown",
   "metadata": {},
   "source": [
    "##### Average age of all houses:"
   ]
  },
  {
   "cell_type": "code",
   "execution_count": null,
   "metadata": {},
   "outputs": [],
   "source": [
    "2024 - housing_train['YearBuilt'].mean()"
   ]
  },
  {
   "cell_type": "markdown",
   "metadata": {
    "tags": []
   },
   "source": [
    "##### Average age of houses that were remodeled at some point:"
   ]
  },
  {
   "cell_type": "code",
   "execution_count": null,
   "metadata": {},
   "outputs": [],
   "source": [
    "2024 - housing_train.loc[housing_train['YearRemodAdd'].dropna() != housing_train['YearBuilt'].dropna()]['YearBuilt'].mean()"
   ]
  },
  {
   "cell_type": "markdown",
   "metadata": {},
   "source": [
    "**As can be seen, houses that were never remodeled are just younger, on average, which can explain the above result.\n",
    "Furthermore, the mean age of houses that were never remodeled is ~40, and from ydata profiling we can see that for houses around that age, the age (YearBuilt) is still \n",
    "a significant factor for price (for older houses the age becomes much less significant - 60 or 90, it doesn't matter a lot).**"
   ]
  },
  {
   "cell_type": "markdown",
   "metadata": {},
   "source": [
    "## Part 2 - Baseline Model"
   ]
  },
  {
   "cell_type": "code",
   "execution_count": null,
   "metadata": {
    "ExecuteTime": {
     "end_time": "2024-02-06T13:56:57.750460100Z",
     "start_time": "2024-02-06T13:56:57.487475800Z"
    },
    "tags": []
   },
   "outputs": [],
   "source": [
    "import numpy as np\n",
    "import pandas as pd\n",
    "from sklearn.linear_model import LinearRegression\n",
    "from sklearn.impute import SimpleImputer\n",
    "from sklearn.pipeline import Pipeline\n",
    "from sklearn.compose import ColumnTransformer, make_column_selector"
   ]
  },
  {
   "cell_type": "markdown",
   "metadata": {},
   "source": [
    "**As a baseline model we chose to use a simple linear regression.\n",
    "We tried two approaches - the first one includes categorical features and the 2nd one excludes them.\n",
    "In the first approach the categorical values were converted to numbers using pandas categorize method.\n",
    "Surprisingly (?), the 2nd approach performed much better - the model that relied on it got a score of 0.20614 upon submission,\n",
    "whereas the model that relied on the 1st approach got a score of 0.77086**"
   ]
  },
  {
   "cell_type": "markdown",
   "metadata": {},
   "source": [
    "### Features imputation"
   ]
  },
  {
   "cell_type": "markdown",
   "metadata": {},
   "source": [
    "**Most features don't have missing values. Below we explain how we preprocessed for those that do have missing values.**"
   ]
  },
  {
   "cell_type": "markdown",
   "metadata": {},
   "source": [
    "* According to the data_desctiption file, the following columns have NA values for houses that lack the actual feature: BsmtQual, BsmtCond, BsmtExposure, FireplaceQu, GarageType, GarageFinish, GarageQual, GarageCond, PoolQC, MiscFeature.\n",
    "Therefore, we decided to replace NA with 'None'.\n",
    "\n",
    "* In features BsmtFinType1 and BsmtFinType2, 'Unf' value means unfinished. However, many houses have this value (430 houses have it for BsmtFinType1 and 1256 have it for BsmtFinType2), which seems unlikely. So 'Unf's were also changed to 'None'.\n",
    "\n",
    "* GarageYrBlt is a numeric feature, yet imputing NA's with mean or something similar didn't look like the right way to go here. 'None string would have complicated this feature as it's supposed to be numeric. We decided to impute it with the YearBuilt value.\n",
    "_Note that we're strongly considering to drop this feature in our final model as it is highly correlated with YearBuilt anyway._\n",
    "\n",
    "* LotFrontage (numeric) is ~normally distributed, median and mean are very close to each other. However, Mode value is a bit lower and very common. For now all numeric values (except GarageYrBlt) are imputed with mean. But in the final model imputation with Mode will be considered fir this feature.\n",
    "\n",
    "* MasVnrArea (numeric) - more than half of the values is just 0. The remaining values are sort of normally distributed though with a very \"flat\" bell and somewhat left-skewed.\n",
    "Same comment about the Mode (here it's of course 0) as an option for imputation in the final model.\n",
    "\n",
    "* MasVnrType (categorical) - at this point imputed with 'None'. However, there is one very common value (BrkFace). most_common will be considered.\n",
    "\n",
    "* Fence - many missing values, imputed with 'None'. most_common should be considered here too, although it's less distinct.\n",
    "\n",
    "* Electrical - has only 1 missing value which will be imputed with 'None'.\n",
    "\n",
    "* Alley (categorical) - vast majority of values are NA's and will be replaced with 'None'. The values that do exist are divided ~50-50 between the 2 possible options."
   ]
  },
  {
   "cell_type": "markdown",
   "metadata": {},
   "source": [
    "### Model with both numeric and categorical values:"
   ]
  },
  {
   "cell_type": "code",
   "execution_count": null,
   "metadata": {
    "ExecuteTime": {
     "end_time": "2024-02-06T13:59:53.837067300Z",
     "start_time": "2024-02-06T13:59:53.646338600Z"
    },
    "lines_to_next_cell": 0,
    "tags": []
   },
   "outputs": [],
   "source": [
    "train_for_model = train_origin_df.copy()\n",
    "\n",
    "train_for_model['BsmtFinType1'] = train_for_model['BsmtFinType1'].replace('Unf', 'None')\n",
    "train_for_model['BsmtFinType2'] = train_for_model['BsmtFinType2'].replace('Unf', 'None')\n",
    "train_for_model['GarageYrBlt'] = train_for_model['GarageYrBlt'].fillna(train_for_model['YearBuilt'])\n",
    "\n",
    "imputation_pipe = Pipeline([\n",
    "    (\"preprocess\", ColumnTransformer(\n",
    "        transformers=[\n",
    "        (\"mean_imputer\", SimpleImputer(missing_values=pd.NA, strategy='mean'),\n",
    "         make_column_selector(dtype_include='number')),\n",
    "        (\"category_imputer\", SimpleImputer(missing_values=pd.NA, strategy='constant', fill_value='None'),\n",
    "         make_column_selector(dtype_include='object'))\n",
    "        ],\n",
    "        verbose_feature_names_out=False).set_output(transform='pandas')\n",
    "    )\n",
    "])\n",
    "\n",
    "y_train = train_for_model['SalePrice']\n",
    "X_train = train_for_model.drop(columns='SalePrice')\n",
    "\n",
    "imputation_pipe.fit(X_train)\n",
    "X_train_wrong_column_order = imputation_pipe.transform(X_train)\n",
    "X_train = X_train_wrong_column_order[X_train.columns]\n",
    "\n",
    "categorical_columns = X_train.select_dtypes(include='object').columns\n",
    "for col in categorical_columns:\n",
    "    X_train[col], _ = pd.factorize(X_train[col])\n",
    "\n",
    "simple_linear_model = LinearRegression()\n",
    "simple_linear_model.fit(X_train, y_train)\n",
    "\n",
    "X_test = pd.read_csv('test.csv')\n",
    "X_test['BsmtFinType1'] = X_test['BsmtFinType1'].replace('Unf', 'None')\n",
    "X_test['BsmtFinType2'] = X_test['BsmtFinType2'].replace('Unf', 'None')\n",
    "X_test['GarageYrBlt'] = X_test['GarageYrBlt'].fillna(X_test['YearBuilt'])\n",
    "\n",
    "X_test_wrong_column_order = imputation_pipe.transform(X_test)\n",
    "X_test = X_test_wrong_column_order[X_test.columns]\n",
    "\n",
    "for col in categorical_columns:\n",
    "    X_test[col], _ = pd.factorize(X_test[col])\n",
    "    \n",
    "y_pred = simple_linear_model.predict(X_test)"
   ]
  },
  {
   "cell_type": "markdown",
   "metadata": {
    "tags": []
   },
   "source": [
    "### Model with numeric values only:"
   ]
  },
  {
   "cell_type": "code",
   "execution_count": null,
   "metadata": {
    "tags": []
   },
   "outputs": [],
   "source": [
    "train_for_model = train_origin_df.copy()\n",
    "train_for_model['GarageYrBlt'] = train_for_model['GarageYrBlt'].fillna(train_for_model['YearBuilt'])\n",
    "\n",
    "y_train = train_for_model['SalePrice']\n",
    "X_train = train_for_model.drop(columns='SalePrice').select_dtypes(include='number')\n",
    "\n",
    "simple_imputer = SimpleImputer(missing_values=pd.NA, strategy='mean')\n",
    "simple_imputer.set_output(transform='pandas')\n",
    "simple_imputer.fit(X_train)\n",
    "X_train = simple_imputer.transform(X_train)\n",
    "\n",
    "simple_linear_model = LinearRegression()\n",
    "simple_linear_model.fit(X_train, y_train)\n",
    "\n",
    "X_test = pd.read_csv('test.csv').select_dtypes(include='number')\n",
    "X_test['GarageYrBlt'] = X_test['GarageYrBlt'].fillna(X_test['YearBuilt'])\n",
    "X_test = simple_imputer.transform(X_test)\n",
    "\n",
    "y_pred = simple_linear_model.predict(X_test)"
   ]
  }
 ],
 "metadata": {
  "kernelspec": {
   "display_name": "Python 3 (ipykernel)",
   "language": "python",
   "name": "python3"
  },
  "language_info": {
   "codemirror_mode": {
    "name": "ipython",
    "version": 3
   },
   "file_extension": ".py",
   "mimetype": "text/x-python",
   "name": "python",
   "nbconvert_exporter": "python",
   "pygments_lexer": "ipython3",
   "version": "3.11.5"
  }
 },
 "nbformat": 4,
 "nbformat_minor": 4
}
