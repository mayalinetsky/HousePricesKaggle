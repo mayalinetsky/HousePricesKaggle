{
 "cells": [
  {
   "cell_type": "markdown",
   "metadata": {
    "id": "view-in-github",
    "colab_type": "text"
   },
   "source": [
    "<a href=\"https://colab.research.google.com/github/Adirgos/Ydata/blob/Kaggle/Adir_kaggle.ipynb\" target=\"_parent\"><img src=\"https://colab.research.google.com/assets/colab-badge.svg\" alt=\"Open In Colab\"/></a>"
   ]
  },
  {
   "cell_type": "markdown",
   "source": [
    "# Notes"
   ],
   "metadata": {
    "collapsed": false
   }
  },
  {
   "cell_type": "markdown",
   "source": [
    "## General Notes:\n",
    "- Garage columns (4 text + 1 numecric) have 1379 entries (81 NANs)\n",
    "  Other 2 Garage cols has 81 zeros. \n",
    "- only numeric values missing:\n",
    "  - LotFrontage: 1201\n",
    "  - MasVnrArea: 1452\n",
    "  - GarageYrBlt: 1379\n",
    "  these are the only float columns in the dataset\n",
    "- is there any logic behind missing values?\n",
    "- normalization by Neighborhood?\n",
    "- are missing numeric values filled with 0?\n",
    "- subprime-crisis dates"
   ],
   "metadata": {
    "collapsed": false
   }
  },
  {
   "cell_type": "markdown",
   "source": [
    "## Suspicious columns:\n",
    "biased volumns - columns that contain bias (few values that appear in most items):\n",
    "(I made a DF from this list later on)\n",
    "- MSZoning: 93% are RL or RM\n",
    "- Street: 99% is Pave\n",
    "- LotShape: 96% are Reg or IR1\n",
    "- LandContour: 90% are Lvl\n",
    "- Utilities: 99.9% are AllPub\n",
    "- LotConfig: 90% are Inside or Corner\n",
    "- LandSlope: 95% are Gtl\n",
    "- BldgType: 91% are 1Fam or TwnhsE\n",
    "- RoofStyle: 97% are Gable or Hip\n",
    "- RoofMatl: 98% are CompShg\n",
    "- MasVnrType: 90% are None or BrkFace\n",
    "- ExterQual: 95% are TA or Gd\n",
    "- ExterCond: 98% are TA or Gd\n",
    "- BsmtCond: 92% are TA\n",
    "- BsmtFinType2: 88% are Unf\n",
    "- Heating: 97% are Gasa\n",
    "- CentralAir: 93% are Y\n",
    "- Electrical: 91% are SBrkr\n",
    "- Functional: 93% are Typ\n",
    "- GarageType: 91% are Attchd or Detchd\n",
    "- GarageQual: 95% are TA\n",
    "- GarageCond: 96% are TA\n",
    "- PavedDrive: 92% are Y\n",
    "- SaleType: 95% of values are WD or New\n",
    "- SaleCondition: 98% are Normal, Partial or Abnormal\n",
    "- MaxVnrArea: 60% are 0\n",
    "- BsmtFinSF1: 32% are 0\n",
    "- BsmtFinSF2: 86% are 0\n",
    "- 2ndFlrSF: 57% are 0\n",
    "- LowQualFinSF: 98% are 0\n",
    "- BsmtHalfBath: 94% are 0\n",
    "- KitchenAbvGr: 95% are 1\n",
    "- WoodDeckSF: 52% are 0\n",
    "- OpenPorchSF: 45% are 0\n",
    "- EnclosedPorch: 86% are 0\n",
    "- 3SsnPorch: 98% are 0\n",
    "- ScreenPorch: 92% are 0\n",
    "- PoolArea: 99% are 0\n",
    "- MiscVal: 96% are 0\n",
    "\n",
    "\n",
    "\n",
    "thin columns - columns with very little values:\n",
    "- Alley: only 91 values\n",
    "- FireplaceQu: 770 values\n",
    "- PoolQC: only 7 values\n",
    "- Fence: only 281 values\n",
    "- MiscFeature: only 54 values\n",
    "\n",
    "\n",
    "\n",
    "Condition 1 and Condition 2: strange relationship, most items in Norm-Norm"
   ],
   "metadata": {
    "collapsed": false
   }
  },
  {
   "cell_type": "markdown",
   "source": [
    "## Text to num:\n",
    "- CentralAir: Y=1, N=0\n",
    "- PavedDrive: Y=1, P=0.5, N=0"
   ],
   "metadata": {
    "collapsed": false
   }
  },
  {
   "cell_type": "markdown",
   "source": [
    "## Ideas for combinations:\n",
    "- Fence & Neighborhood\n",
    "- MiscVal & MiscFeature\n",
    "- SaleType & missing values\n",
    "- HeatingQC & neighborhood\n",
    "- YearBuilt & BsmtCond\n",
    "- TotRmsAbvGrd & Neighborhood\n",
    "- GarageYrBlt & YearBuilt\n",
    "- driveway & garage?"
   ],
   "metadata": {
    "collapsed": false
   }
  },
  {
   "cell_type": "markdown",
   "metadata": {
    "id": "4xoTXUIINJjX"
   },
   "source": [
    "## Potential strong Features:\n",
    "- MSSubClass\n",
    "- MSZoning\n",
    "- LotArea\n",
    "- Utilities\n",
    "- Neighborhood\n",
    "- Condition1\n",
    "- Condition2\n",
    "- BldgType\n",
    "- HouseStyle\n",
    "- OverallQual\n",
    "- OverallCond\n",
    "- YearBuilt\n",
    "- YearRemodAdd\n",
    "- Exterior1st if asbest\n",
    "- Exterior2nd if asbest\n",
    "- BsmtQual - maybe related to foundations\n",
    "- BsmtCond - maybe related to foundations\n",
    "- BsmtFinType1\n",
    "- BsmtFinType1\n",
    "- HeatingQC\n",
    "- 1stFlrSF\n",
    "- 2ndFlrSF\n",
    "- GrLivArea\n",
    "- KitchenQual\n",
    "- TotRmsAbvGrd\n",
    "- Functional\n",
    "- GarageType\n",
    "- GarageCars\n",
    "- MoSold"
   ]
  },
  {
   "cell_type": "markdown",
   "metadata": {
    "id": "x4w21HCxNJfx"
   },
   "source": [
    "# Code"
   ]
  },
  {
   "cell_type": "markdown",
   "source": [
    "## Imports"
   ],
   "metadata": {
    "collapsed": false
   }
  },
  {
   "cell_type": "code",
   "execution_count": 39,
   "metadata": {
    "id": "RbUvKmD0HZbZ",
    "ExecuteTime": {
     "end_time": "2024-02-08T23:15:19.240077Z",
     "start_time": "2024-02-08T23:15:19.156033Z"
    }
   },
   "outputs": [],
   "source": [
    "import numpy as np\n",
    "import re\n",
    "import pandas as pd\n",
    "import matplotlib.pyplot as plt"
   ]
  },
  {
   "cell_type": "code",
   "execution_count": 29,
   "metadata": {
    "id": "j6gSvv8rMxe0",
    "ExecuteTime": {
     "end_time": "2024-02-08T23:02:28.512435Z",
     "start_time": "2024-02-08T23:02:28.400034Z"
    }
   },
   "outputs": [],
   "source": [
    "df = pd.read_csv('train.csv')"
   ]
  },
  {
   "cell_type": "code",
   "execution_count": null,
   "metadata": {
    "id": "kUASUZdFNC2e"
   },
   "outputs": [],
   "source": [
    "df.info()"
   ]
  },
  {
   "cell_type": "code",
   "execution_count": 3,
   "metadata": {
    "id": "g1Cjkc2CNIXv",
    "ExecuteTime": {
     "end_time": "2024-02-08T22:26:29.302816Z",
     "start_time": "2024-02-08T22:26:29.033037Z"
    }
   },
   "outputs": [],
   "source": [
    "data = df.loc[:, ~df.columns.isin(['SalePrice'])]\n",
    "labels = df[['SalePrice']]"
   ]
  },
  {
   "cell_type": "code",
   "execution_count": 9,
   "metadata": {
    "cellView": "form",
    "id": "QUWn_d8GQGvt",
    "ExecuteTime": {
     "end_time": "2024-02-08T19:50:16.805556Z",
     "start_time": "2024-02-08T19:50:16.741016Z"
    }
   },
   "outputs": [
    {
     "name": "stdout",
     "output_type": "stream",
     "text": [
      "MSSubClass: Identifies the type of dwelling involved in the sale.\t\n",
      "\n",
      "        20\t1-STORY 1946 & NEWER ALL STYLES\n",
      "        30\t1-STORY 1945 & OLDER\n",
      "        40\t1-STORY W/FINISHED ATTIC ALL AGES\n",
      "        45\t1-1/2 STORY - UNFINISHED ALL AGES\n",
      "        50\t1-1/2 STORY FINISHED ALL AGES\n",
      "        60\t2-STORY 1946 & NEWER\n",
      "        70\t2-STORY 1945 & OLDER\n",
      "        75\t2-1/2 STORY ALL AGES\n",
      "        80\tSPLIT OR MULTI-LEVEL\n",
      "        85\tSPLIT FOYER\n",
      "        90\tDUPLEX - ALL STYLES AND AGES\n",
      "       120\t1-STORY PUD (Planned Unit Development) - 1946 & NEWER\n",
      "       150\t1-1/2 STORY PUD - ALL AGES\n",
      "       160\t2-STORY PUD - 1946 & NEWER\n",
      "       180\tPUD - MULTILEVEL - INCL SPLIT LEV/FOYER\n",
      "       190\t2 FAMILY CONVERSION - ALL STYLES AND AGES\n",
      "\n",
      "MSZoning: Identifies the general zoning classification of the sale.\n",
      "\t\t\n",
      "       A\tAgriculture\n",
      "       C\tCommercial\n",
      "       FV\tFloating Village Residential\n",
      "       I\tIndustrial\n",
      "       RH\tResidential High Density\n",
      "       RL\tResidential Low Density\n",
      "       RP\tResidential Low Density Park \n",
      "       RM\tResidential Medium Density\n",
      "\t\n",
      "LotFrontage: Linear feet of street connected to property\n",
      "\n",
      "LotArea: Lot size in square feet\n",
      "\n",
      "Street: Type of road access to property\n",
      "\n",
      "       Grvl\tGravel\t\n",
      "       Pave\tPaved\n",
      "       \t\n",
      "Alley: Type of alley access to property\n",
      "\n",
      "       Grvl\tGravel\n",
      "       Pave\tPaved\n",
      "       NA \tNo alley access\n",
      "\t\t\n",
      "LotShape: General shape of property\n",
      "\n",
      "       Reg\tRegular\t\n",
      "       IR1\tSlightly irregular\n",
      "       IR2\tModerately Irregular\n",
      "       IR3\tIrregular\n",
      "       \n",
      "LandContour: Flatness of the property\n",
      "\n",
      "       Lvl\tNear Flat/Level\t\n",
      "       Bnk\tBanked - Quick and significant rise from street grade to building\n",
      "       HLS\tHillside - Significant slope from side to side\n",
      "       Low\tDepression\n",
      "\t\t\n",
      "Utilities: Type of utilities available\n",
      "\t\t\n",
      "       AllPub\tAll public Utilities (E,G,W,& S)\t\n",
      "       NoSewr\tElectricity, Gas, and Water (Septic Tank)\n",
      "       NoSeWa\tElectricity and Gas Only\n",
      "       ELO\tElectricity only\t\n",
      "\t\n",
      "LotConfig: Lot configuration\n",
      "\n",
      "       Inside\tInside lot\n",
      "       Corner\tCorner lot\n",
      "       CulDSac\tCul-de-sac\n",
      "       FR2\tFrontage on 2 sides of property\n",
      "       FR3\tFrontage on 3 sides of property\n",
      "\t\n",
      "LandSlope: Slope of property\n",
      "\t\t\n",
      "       Gtl\tGentle slope\n",
      "       Mod\tModerate Slope\t\n",
      "       Sev\tSevere Slope\n",
      "\t\n",
      "Neighborhood: Physical locations within Ames city limits\n",
      "\n",
      "       Blmngtn\tBloomington Heights\n",
      "       Blueste\tBluestem\n",
      "       BrDale\tBriardale\n",
      "       BrkSide\tBrookside\n",
      "       ClearCr\tClear Creek\n",
      "       CollgCr\tCollege Creek\n",
      "       Crawfor\tCrawford\n",
      "       Edwards\tEdwards\n",
      "       Gilbert\tGilbert\n",
      "       IDOTRR\tIowa DOT and Rail Road\n",
      "       MeadowV\tMeadow Village\n",
      "       Mitchel\tMitchell\n",
      "       Names\tNorth Ames\n",
      "       NoRidge\tNorthridge\n",
      "       NPkVill\tNorthpark Villa\n",
      "       NridgHt\tNorthridge Heights\n",
      "       NWAmes\tNorthwest Ames\n",
      "       OldTown\tOld Town\n",
      "       SWISU\tSouth & West of Iowa State University\n",
      "       Sawyer\tSawyer\n",
      "       SawyerW\tSawyer West\n",
      "       Somerst\tSomerset\n",
      "       StoneBr\tStone Brook\n",
      "       Timber\tTimberland\n",
      "       Veenker\tVeenker\n",
      "\t\t\t\n",
      "Condition1: Proximity to various conditions\n",
      "\t\n",
      "       Artery\tAdjacent to arterial street\n",
      "       Feedr\tAdjacent to feeder street\t\n",
      "       Norm\tNormal\t\n",
      "       RRNn\tWithin 200' of North-South Railroad\n",
      "       RRAn\tAdjacent to North-South Railroad\n",
      "       PosN\tNear positive off-site feature--park, greenbelt, etc.\n",
      "       PosA\tAdjacent to postive off-site feature\n",
      "       RRNe\tWithin 200' of East-West Railroad\n",
      "       RRAe\tAdjacent to East-West Railroad\n",
      "\t\n",
      "Condition2: Proximity to various conditions (if more than one is present)\n",
      "\t\t\n",
      "       Artery\tAdjacent to arterial street\n",
      "       Feedr\tAdjacent to feeder street\t\n",
      "       Norm\tNormal\t\n",
      "       RRNn\tWithin 200' of North-South Railroad\n",
      "       RRAn\tAdjacent to North-South Railroad\n",
      "       PosN\tNear positive off-site feature--park, greenbelt, etc.\n",
      "       PosA\tAdjacent to postive off-site feature\n",
      "       RRNe\tWithin 200' of East-West Railroad\n",
      "       RRAe\tAdjacent to East-West Railroad\n",
      "\t\n",
      "BldgType: Type of dwelling\n",
      "\t\t\n",
      "       1Fam\tSingle-family Detached\t\n",
      "       2FmCon\tTwo-family Conversion; originally built as one-family dwelling\n",
      "       Duplx\tDuplex\n",
      "       TwnhsE\tTownhouse End Unit\n",
      "       TwnhsI\tTownhouse Inside Unit\n",
      "\t\n",
      "HouseStyle: Style of dwelling\n",
      "\t\n",
      "       1Story\tOne story\n",
      "       1.5Fin\tOne and one-half story: 2nd level finished\n",
      "       1.5Unf\tOne and one-half story: 2nd level unfinished\n",
      "       2Story\tTwo story\n",
      "       2.5Fin\tTwo and one-half story: 2nd level finished\n",
      "       2.5Unf\tTwo and one-half story: 2nd level unfinished\n",
      "       SFoyer\tSplit Foyer\n",
      "       SLvl\tSplit Level\n",
      "\t\n",
      "OverallQual: Rates the overall material and finish of the house\n",
      "\n",
      "       10\tVery Excellent\n",
      "       9\tExcellent\n",
      "       8\tVery Good\n",
      "       7\tGood\n",
      "       6\tAbove Average\n",
      "       5\tAverage\n",
      "       4\tBelow Average\n",
      "       3\tFair\n",
      "       2\tPoor\n",
      "       1\tVery Poor\n",
      "\t\n",
      "OverallCond: Rates the overall condition of the house\n",
      "\n",
      "       10\tVery Excellent\n",
      "       9\tExcellent\n",
      "       8\tVery Good\n",
      "       7\tGood\n",
      "       6\tAbove Average\t\n",
      "       5\tAverage\n",
      "       4\tBelow Average\t\n",
      "       3\tFair\n",
      "       2\tPoor\n",
      "       1\tVery Poor\n",
      "\t\t\n",
      "YearBuilt: Original construction date\n",
      "\n",
      "YearRemodAdd: Remodel date (same as construction date if no remodeling or additions)\n",
      "\n",
      "RoofStyle: Type of roof\n",
      "\n",
      "       Flat\tFlat\n",
      "       Gable\tGable\n",
      "       Gambrel\tGabrel (Barn)\n",
      "       Hip\tHip\n",
      "       Mansard\tMansard\n",
      "       Shed\tShed\n",
      "\t\t\n",
      "RoofMatl: Roof material\n",
      "\n",
      "       ClyTile\tClay or Tile\n",
      "       CompShg\tStandard (Composite) Shingle\n",
      "       Membran\tMembrane\n",
      "       Metal\tMetal\n",
      "       Roll\tRoll\n",
      "       Tar&Grv\tGravel & Tar\n",
      "       WdShake\tWood Shakes\n",
      "       WdShngl\tWood Shingles\n",
      "\t\t\n",
      "Exterior1st: Exterior covering on house\n",
      "\n",
      "       AsbShng\tAsbestos Shingles\n",
      "       AsphShn\tAsphalt Shingles\n",
      "       BrkComm\tBrick Common\n",
      "       BrkFace\tBrick Face\n",
      "       CBlock\tCinder Block\n",
      "       CemntBd\tCement Board\n",
      "       HdBoard\tHard Board\n",
      "       ImStucc\tImitation Stucco\n",
      "       MetalSd\tMetal Siding\n",
      "       Other\tOther\n",
      "       Plywood\tPlywood\n",
      "       PreCast\tPreCast\t\n",
      "       Stone\tStone\n",
      "       Stucco\tStucco\n",
      "       VinylSd\tVinyl Siding\n",
      "       Wd Sdng\tWood Siding\n",
      "       WdShing\tWood Shingles\n",
      "\t\n",
      "Exterior2nd: Exterior covering on house (if more than one material)\n",
      "\n",
      "       AsbShng\tAsbestos Shingles\n",
      "       AsphShn\tAsphalt Shingles\n",
      "       BrkComm\tBrick Common\n",
      "       BrkFace\tBrick Face\n",
      "       CBlock\tCinder Block\n",
      "       CemntBd\tCement Board\n",
      "       HdBoard\tHard Board\n",
      "       ImStucc\tImitation Stucco\n",
      "       MetalSd\tMetal Siding\n",
      "       Other\tOther\n",
      "       Plywood\tPlywood\n",
      "       PreCast\tPreCast\n",
      "       Stone\tStone\n",
      "       Stucco\tStucco\n",
      "       VinylSd\tVinyl Siding\n",
      "       Wd Sdng\tWood Siding\n",
      "       WdShing\tWood Shingles\n",
      "\t\n",
      "MasVnrType: Masonry veneer type\n",
      "\n",
      "       BrkCmn\tBrick Common\n",
      "       BrkFace\tBrick Face\n",
      "       CBlock\tCinder Block\n",
      "       None\tNone\n",
      "       Stone\tStone\n",
      "\t\n",
      "MasVnrArea: Masonry veneer area in square feet\n",
      "\n",
      "ExterQual: Evaluates the quality of the material on the exterior \n",
      "\t\t\n",
      "       Ex\tExcellent\n",
      "       Gd\tGood\n",
      "       TA\tAverage/Typical\n",
      "       Fa\tFair\n",
      "       Po\tPoor\n",
      "\t\t\n",
      "ExterCond: Evaluates the present condition of the material on the exterior\n",
      "\t\t\n",
      "       Ex\tExcellent\n",
      "       Gd\tGood\n",
      "       TA\tAverage/Typical\n",
      "       Fa\tFair\n",
      "       Po\tPoor\n",
      "\t\t\n",
      "Foundation: Type of foundation\n",
      "\t\t\n",
      "       BrkTil\tBrick & Tile\n",
      "       CBlock\tCinder Block\n",
      "       PConc\tPoured Contrete\t\n",
      "       Slab\tSlab\n",
      "       Stone\tStone\n",
      "       Wood\tWood\n",
      "\t\t\n",
      "BsmtQual: Evaluates the height of the basement\n",
      "\n",
      "       Ex\tExcellent (100+ inches)\t\n",
      "       Gd\tGood (90-99 inches)\n",
      "       TA\tTypical (80-89 inches)\n",
      "       Fa\tFair (70-79 inches)\n",
      "       Po\tPoor (<70 inches\n",
      "       NA\tNo Basement\n",
      "\t\t\n",
      "BsmtCond: Evaluates the general condition of the basement\n",
      "\n",
      "       Ex\tExcellent\n",
      "       Gd\tGood\n",
      "       TA\tTypical - slight dampness allowed\n",
      "       Fa\tFair - dampness or some cracking or settling\n",
      "       Po\tPoor - Severe cracking, settling, or wetness\n",
      "       NA\tNo Basement\n",
      "\t\n",
      "BsmtExposure: Refers to walkout or garden level walls\n",
      "\n",
      "       Gd\tGood Exposure\n",
      "       Av\tAverage Exposure (split levels or foyers typically score average or above)\t\n",
      "       Mn\tMimimum Exposure\n",
      "       No\tNo Exposure\n",
      "       NA\tNo Basement\n",
      "\t\n",
      "BsmtFinType1: Rating of basement finished area\n",
      "\n",
      "       GLQ\tGood Living Quarters\n",
      "       ALQ\tAverage Living Quarters\n",
      "       BLQ\tBelow Average Living Quarters\t\n",
      "       Rec\tAverage Rec Room\n",
      "       LwQ\tLow Quality\n",
      "       Unf\tUnfinshed\n",
      "       NA\tNo Basement\n",
      "\t\t\n",
      "BsmtFinSF1: Type 1 finished square feet\n",
      "\n",
      "BsmtFinType2: Rating of basement finished area (if multiple types)\n",
      "\n",
      "       GLQ\tGood Living Quarters\n",
      "       ALQ\tAverage Living Quarters\n",
      "       BLQ\tBelow Average Living Quarters\t\n",
      "       Rec\tAverage Rec Room\n",
      "       LwQ\tLow Quality\n",
      "       Unf\tUnfinshed\n",
      "       NA\tNo Basement\n",
      "\n",
      "BsmtFinSF2: Type 2 finished square feet\n",
      "\n",
      "BsmtUnfSF: Unfinished square feet of basement area\n",
      "\n",
      "TotalBsmtSF: Total square feet of basement area\n",
      "\n",
      "Heating: Type of heating\n",
      "\t\t\n",
      "       Floor\tFloor Furnace\n",
      "       GasA\tGas forced warm air furnace\n",
      "       GasW\tGas hot water or steam heat\n",
      "       Grav\tGravity furnace\t\n",
      "       OthW\tHot water or steam heat other than gas\n",
      "       Wall\tWall furnace\n",
      "\t\t\n",
      "HeatingQC: Heating quality and condition\n",
      "\n",
      "       Ex\tExcellent\n",
      "       Gd\tGood\n",
      "       TA\tAverage/Typical\n",
      "       Fa\tFair\n",
      "       Po\tPoor\n",
      "\t\t\n",
      "CentralAir: Central air conditioning\n",
      "\n",
      "       N\tNo\n",
      "       Y\tYes\n",
      "\t\t\n",
      "Electrical: Electrical system\n",
      "\n",
      "       SBrkr\tStandard Circuit Breakers & Romex\n",
      "       FuseA\tFuse Box over 60 AMP and all Romex wiring (Average)\t\n",
      "       FuseF\t60 AMP Fuse Box and mostly Romex wiring (Fair)\n",
      "       FuseP\t60 AMP Fuse Box and mostly knob & tube wiring (poor)\n",
      "       Mix\tMixed\n",
      "\t\t\n",
      "1stFlrSF: First Floor square feet\n",
      " \n",
      "2ndFlrSF: Second floor square feet\n",
      "\n",
      "LowQualFinSF: Low quality finished square feet (all floors)\n",
      "\n",
      "GrLivArea: Above grade (ground) living area square feet\n",
      "\n",
      "BsmtFullBath: Basement full bathrooms\n",
      "\n",
      "BsmtHalfBath: Basement half bathrooms\n",
      "\n",
      "FullBath: Full bathrooms above grade\n",
      "\n",
      "HalfBath: Half baths above grade\n",
      "\n",
      "Bedroom: Bedrooms above grade (does NOT include basement bedrooms)\n",
      "\n",
      "Kitchen: Kitchens above grade\n",
      "\n",
      "KitchenQual: Kitchen quality\n",
      "\n",
      "       Ex\tExcellent\n",
      "       Gd\tGood\n",
      "       TA\tTypical/Average\n",
      "       Fa\tFair\n",
      "       Po\tPoor\n",
      "       \t\n",
      "TotRmsAbvGrd: Total rooms above grade (does not include bathrooms)\n",
      "\n",
      "Functional: Home functionality (Assume typical unless deductions are warranted)\n",
      "\n",
      "       Typ\tTypical Functionality\n",
      "       Min1\tMinor Deductions 1\n",
      "       Min2\tMinor Deductions 2\n",
      "       Mod\tModerate Deductions\n",
      "       Maj1\tMajor Deductions 1\n",
      "       Maj2\tMajor Deductions 2\n",
      "       Sev\tSeverely Damaged\n",
      "       Sal\tSalvage only\n",
      "\t\t\n",
      "Fireplaces: Number of fireplaces\n",
      "\n",
      "FireplaceQu: Fireplace quality\n",
      "\n",
      "       Ex\tExcellent - Exceptional Masonry Fireplace\n",
      "       Gd\tGood - Masonry Fireplace in main level\n",
      "       TA\tAverage - Prefabricated Fireplace in main living area or Masonry Fireplace in basement\n",
      "       Fa\tFair - Prefabricated Fireplace in basement\n",
      "       Po\tPoor - Ben Franklin Stove\n",
      "       NA\tNo Fireplace\n",
      "\t\t\n",
      "GarageType: Garage location\n",
      "\t\t\n",
      "       2Types\tMore than one type of garage\n",
      "       Attchd\tAttached to home\n",
      "       Basment\tBasement Garage\n",
      "       BuiltIn\tBuilt-In (Garage part of house - typically has room above garage)\n",
      "       CarPort\tCar Port\n",
      "       Detchd\tDetached from home\n",
      "       NA\tNo Garage\n",
      "\t\t\n",
      "GarageYrBlt: Year garage was built\n",
      "\t\t\n",
      "GarageFinish: Interior finish of the garage\n",
      "\n",
      "       Fin\tFinished\n",
      "       RFn\tRough Finished\t\n",
      "       Unf\tUnfinished\n",
      "       NA\tNo Garage\n",
      "\t\t\n",
      "GarageCars: Size of garage in car capacity\n",
      "\n",
      "GarageArea: Size of garage in square feet\n",
      "\n",
      "GarageQual: Garage quality\n",
      "\n",
      "       Ex\tExcellent\n",
      "       Gd\tGood\n",
      "       TA\tTypical/Average\n",
      "       Fa\tFair\n",
      "       Po\tPoor\n",
      "       NA\tNo Garage\n",
      "\t\t\n",
      "GarageCond: Garage condition\n",
      "\n",
      "       Ex\tExcellent\n",
      "       Gd\tGood\n",
      "       TA\tTypical/Average\n",
      "       Fa\tFair\n",
      "       Po\tPoor\n",
      "       NA\tNo Garage\n",
      "\t\t\n",
      "PavedDrive: Paved driveway\n",
      "\n",
      "       Y\tPaved \n",
      "       P\tPartial Pavement\n",
      "       N\tDirt/Gravel\n",
      "\t\t\n",
      "WoodDeckSF: Wood deck area in square feet\n",
      "\n",
      "OpenPorchSF: Open porch area in square feet\n",
      "\n",
      "EnclosedPorch: Enclosed porch area in square feet\n",
      "\n",
      "3SsnPorch: Three season porch area in square feet\n",
      "\n",
      "ScreenPorch: Screen porch area in square feet\n",
      "\n",
      "PoolArea: Pool area in square feet\n",
      "\n",
      "PoolQC: Pool quality\n",
      "\t\t\n",
      "       Ex\tExcellent\n",
      "       Gd\tGood\n",
      "       TA\tAverage/Typical\n",
      "       Fa\tFair\n",
      "       NA\tNo Pool\n",
      "\t\t\n",
      "Fence: Fence quality\n",
      "\t\t\n",
      "       GdPrv\tGood Privacy\n",
      "       MnPrv\tMinimum Privacy\n",
      "       GdWo\tGood Wood\n",
      "       MnWw\tMinimum Wood/Wire\n",
      "       NA\tNo Fence\n",
      "\t\n",
      "MiscFeature: Miscellaneous feature not covered in other categories\n",
      "\t\t\n",
      "       Elev\tElevator\n",
      "       Gar2\t2nd Garage (if not described in garage section)\n",
      "       Othr\tOther\n",
      "       Shed\tShed (over 100 SF)\n",
      "       TenC\tTennis Court\n",
      "       NA\tNone\n",
      "\t\t\n",
      "MiscVal: $Value of miscellaneous feature\n",
      "\n",
      "MoSold: Month Sold (MM)\n",
      "\n",
      "YrSold: Year Sold (YYYY)\n",
      "\n",
      "SaleType: Type of sale\n",
      "\t\t\n",
      "       WD \tWarranty Deed - Conventional\n",
      "       CWD\tWarranty Deed - Cash\n",
      "       VWD\tWarranty Deed - VA Loan\n",
      "       New\tHome just constructed and sold\n",
      "       COD\tCourt Officer Deed/Estate\n",
      "       Con\tContract 15% Down payment regular terms\n",
      "       ConLw\tContract Low Down payment and low interest\n",
      "       ConLI\tContract Low Interest\n",
      "       ConLD\tContract Low Down\n",
      "       Oth\tOther\n",
      "\t\t\n",
      "SaleCondition: Condition of sale\n",
      "\n",
      "       Normal\tNormal Sale\n",
      "       Abnorml\tAbnormal Sale -  trade, foreclosure, short sale\n",
      "       AdjLand\tAdjoining Land Purchase\n",
      "       Alloca\tAllocation - two linked properties with separate deeds, typically condo with a garage unit\t\n",
      "       Family\tSale between family members\n",
      "       Partial\tHome was not completed when last assessed (associated with New Homes)\n"
     ]
    }
   ],
   "source": [
    "#@title data descritpion\n",
    "print(open('data_description.txt', 'r').read())"
   ]
  },
  {
   "cell_type": "markdown",
   "metadata": {
    "id": "8OxP5IW9kag0"
   },
   "source": [
    "## Text cols"
   ]
  },
  {
   "cell_type": "code",
   "execution_count": 55,
   "metadata": {
    "colab": {
     "base_uri": "https://localhost:8080/"
    },
    "id": "wPbUtveMNoRh",
    "outputId": "6249c9a2-9dab-427e-9ac6-88c1cf23ad87"
   },
   "outputs": [
    {
     "name": "stdout",
     "output_type": "stream",
     "text": [
      "there are 43 text columns\n"
     ]
    }
   ],
   "source": [
    "text_cols = data.select_dtypes(include='object')\n",
    "print('there are',text_cols.columns.size,'text columns')"
   ]
  },
  {
   "cell_type": "code",
   "execution_count": null,
   "metadata": {
    "cellView": "form",
    "id": "mZwE7vd0OBEo"
   },
   "outputs": [],
   "source": [
    "#@title text columns' values distribution\n",
    "for col in text_cols:\n",
    "  actual_counts = text_cols[col].value_counts()\n",
    "  normalized_values = text_cols[col].value_counts(normalize=True)\n",
    "  result_df = pd.DataFrame({'Actual': actual_counts, 'Normalized': normalized_values})\n",
    "  print(col, ' - ', text_cols[col].value_counts().sum(), '\\n', result_df, '\\n\\n')"
   ]
  },
  {
   "cell_type": "markdown",
   "metadata": {
    "id": "PV8kyXgEkV5w"
   },
   "source": [
    "## Num cols"
   ]
  },
  {
   "cell_type": "code",
   "execution_count": 47,
   "metadata": {
    "colab": {
     "base_uri": "https://localhost:8080/"
    },
    "id": "NP7CFB4VO-rr",
    "outputId": "5dacd6ea-4882-43dd-e5b5-f003423babac"
   },
   "outputs": [
    {
     "name": "stdout",
     "output_type": "stream",
     "text": [
      "there are 37 numeric columns\n"
     ]
    }
   ],
   "source": [
    "num_cols = data.select_dtypes(exclude='object')\n",
    "print('there are', num_cols.columns.size, 'numeric columns')"
   ]
  },
  {
   "cell_type": "code",
   "outputs": [],
   "source": [
    "num_cols.info()"
   ],
   "metadata": {
    "id": "o6A4Q5B5kVUh"
   },
   "execution_count": 0
  },
  {
   "cell_type": "code",
   "outputs": [],
   "source": [
    "#@title numeric columns' values distribution\n",
    "for col in num_cols:\n",
    "  actual_counts = num_cols[col].value_counts()\n",
    "  normalized_values = num_cols[col].value_counts(normalize=True)\n",
    "  result_df = pd.DataFrame({'Actual': actual_counts, 'Normalized': normalized_values})\n",
    "  print(col, ' - ', num_cols[col].value_counts().sum(), '\\n', result_df, '\\n\\n')"
   ],
   "metadata": {
    "cellView": "form",
    "id": "drrD9lN5kiVW"
   },
   "execution_count": 0
  },
  {
   "cell_type": "code",
   "outputs": [],
   "source": [
    "#@title distribution of numerics\n",
    "for column in data.select_dtypes(include='number').columns:\n",
    "    plt.figure(figsize=(6, 4))\n",
    "    data[column].hist()\n",
    "    plt.title(f'Distribution of {column}')\n",
    "    plt.xlabel(column)\n",
    "    plt.ylabel('Frequency')\n",
    "    plt.show()"
   ],
   "metadata": {
    "id": "CyoTQv-Qusfo"
   },
   "execution_count": 0
  },
  {
   "cell_type": "code",
   "outputs": [],
   "source": [
    "imputed_numerics = num_cols.copy()\n",
    "imputed_numerics = imputed_numerics.apply(lambda col: col.fillna(col.mean()))\n",
    "imputed_numerics.info()"
   ],
   "metadata": {
    "id": "CHIHji2izqd2"
   },
   "execution_count": 0
  },
  {
   "cell_type": "code",
   "outputs": [],
   "source": [
    "num_cols.describe().T"
   ],
   "metadata": {
    "id": "8zgCLJql6Jqt"
   },
   "execution_count": 0
  },
  {
   "cell_type": "code",
   "outputs": [],
   "source": [
    "imputed_numerics.describe().T"
   ],
   "metadata": {
    "id": "p5lvM-E_6HeQ"
   },
   "execution_count": 0
  },
  {
   "cell_type": "markdown",
   "source": [
    "## Biased columns"
   ],
   "metadata": {
    "collapsed": false
   }
  },
  {
   "cell_type": "code",
   "outputs": [
    {
     "data": {
      "text/plain": "          feature  freq              dominant values\n0        MSZoning  93.0                     RL or RM\n1        LotShape  96.0                   Reg or IR1\n2     LandContour  90.0                          Lvl\n3       LotConfig  90.0             Inside or Corner\n4       LandSlope  95.0                          Gtl\n5        BldgType  91.0               1Fam or TwnhsE\n6       RoofStyle  97.0                 Gable or Hip\n7        RoofMatl  98.0                      CompShg\n8      MasVnrType  90.0              None or BrkFace\n9       ExterQual  95.0                     TA or Gd\n10      ExterCond  98.0                     TA or Gd\n11       BsmtCond  92.0                           TA\n12   BsmtFinType2  88.0                          Unf\n13        Heating  97.0                         Gasa\n14     CentralAir  93.0                            Y\n15     Electrical  91.0                        SBrkr\n16     Functional  93.0                          Typ\n17     GarageType  91.0             Attchd or Detchd\n18     GarageQual  95.0                           TA\n19     GarageCond  96.0                           TA\n20     PavedDrive  92.0                            Y\n21  SaleCondition  98.0  Normal, Partial or Abnormal\n22     MaxVnrArea  60.0                            0\n23     BsmtFinSF1  32.0                            0\n24     BsmtFinSF2  86.0                            0\n25       2ndFlrSF  57.0                            0\n26   LowQualFinSF  98.0                            0\n27   BsmtHalfBath  94.0                            0\n28   KitchenAbvGr  95.0                            1\n29     WoodDeckSF  52.0                            0\n30    OpenPorchSF  45.0                            0\n31  EnclosedPorch  86.0                            0\n32      3SsnPorch  98.0                            0\n33    ScreenPorch  92.0                            0\n34       PoolArea  99.0                            0\n35        MiscVal  96.0                            0",
      "text/html": "<div>\n<style scoped>\n    .dataframe tbody tr th:only-of-type {\n        vertical-align: middle;\n    }\n\n    .dataframe tbody tr th {\n        vertical-align: top;\n    }\n\n    .dataframe thead th {\n        text-align: right;\n    }\n</style>\n<table border=\"1\" class=\"dataframe\">\n  <thead>\n    <tr style=\"text-align: right;\">\n      <th></th>\n      <th>feature</th>\n      <th>freq</th>\n      <th>dominant values</th>\n    </tr>\n  </thead>\n  <tbody>\n    <tr>\n      <th>0</th>\n      <td>MSZoning</td>\n      <td>93.0</td>\n      <td>RL or RM</td>\n    </tr>\n    <tr>\n      <th>1</th>\n      <td>LotShape</td>\n      <td>96.0</td>\n      <td>Reg or IR1</td>\n    </tr>\n    <tr>\n      <th>2</th>\n      <td>LandContour</td>\n      <td>90.0</td>\n      <td>Lvl</td>\n    </tr>\n    <tr>\n      <th>3</th>\n      <td>LotConfig</td>\n      <td>90.0</td>\n      <td>Inside or Corner</td>\n    </tr>\n    <tr>\n      <th>4</th>\n      <td>LandSlope</td>\n      <td>95.0</td>\n      <td>Gtl</td>\n    </tr>\n    <tr>\n      <th>5</th>\n      <td>BldgType</td>\n      <td>91.0</td>\n      <td>1Fam or TwnhsE</td>\n    </tr>\n    <tr>\n      <th>6</th>\n      <td>RoofStyle</td>\n      <td>97.0</td>\n      <td>Gable or Hip</td>\n    </tr>\n    <tr>\n      <th>7</th>\n      <td>RoofMatl</td>\n      <td>98.0</td>\n      <td>CompShg</td>\n    </tr>\n    <tr>\n      <th>8</th>\n      <td>MasVnrType</td>\n      <td>90.0</td>\n      <td>None or BrkFace</td>\n    </tr>\n    <tr>\n      <th>9</th>\n      <td>ExterQual</td>\n      <td>95.0</td>\n      <td>TA or Gd</td>\n    </tr>\n    <tr>\n      <th>10</th>\n      <td>ExterCond</td>\n      <td>98.0</td>\n      <td>TA or Gd</td>\n    </tr>\n    <tr>\n      <th>11</th>\n      <td>BsmtCond</td>\n      <td>92.0</td>\n      <td>TA</td>\n    </tr>\n    <tr>\n      <th>12</th>\n      <td>BsmtFinType2</td>\n      <td>88.0</td>\n      <td>Unf</td>\n    </tr>\n    <tr>\n      <th>13</th>\n      <td>Heating</td>\n      <td>97.0</td>\n      <td>Gasa</td>\n    </tr>\n    <tr>\n      <th>14</th>\n      <td>CentralAir</td>\n      <td>93.0</td>\n      <td>Y</td>\n    </tr>\n    <tr>\n      <th>15</th>\n      <td>Electrical</td>\n      <td>91.0</td>\n      <td>SBrkr</td>\n    </tr>\n    <tr>\n      <th>16</th>\n      <td>Functional</td>\n      <td>93.0</td>\n      <td>Typ</td>\n    </tr>\n    <tr>\n      <th>17</th>\n      <td>GarageType</td>\n      <td>91.0</td>\n      <td>Attchd or Detchd</td>\n    </tr>\n    <tr>\n      <th>18</th>\n      <td>GarageQual</td>\n      <td>95.0</td>\n      <td>TA</td>\n    </tr>\n    <tr>\n      <th>19</th>\n      <td>GarageCond</td>\n      <td>96.0</td>\n      <td>TA</td>\n    </tr>\n    <tr>\n      <th>20</th>\n      <td>PavedDrive</td>\n      <td>92.0</td>\n      <td>Y</td>\n    </tr>\n    <tr>\n      <th>21</th>\n      <td>SaleCondition</td>\n      <td>98.0</td>\n      <td>Normal, Partial or Abnormal</td>\n    </tr>\n    <tr>\n      <th>22</th>\n      <td>MaxVnrArea</td>\n      <td>60.0</td>\n      <td>0</td>\n    </tr>\n    <tr>\n      <th>23</th>\n      <td>BsmtFinSF1</td>\n      <td>32.0</td>\n      <td>0</td>\n    </tr>\n    <tr>\n      <th>24</th>\n      <td>BsmtFinSF2</td>\n      <td>86.0</td>\n      <td>0</td>\n    </tr>\n    <tr>\n      <th>25</th>\n      <td>2ndFlrSF</td>\n      <td>57.0</td>\n      <td>0</td>\n    </tr>\n    <tr>\n      <th>26</th>\n      <td>LowQualFinSF</td>\n      <td>98.0</td>\n      <td>0</td>\n    </tr>\n    <tr>\n      <th>27</th>\n      <td>BsmtHalfBath</td>\n      <td>94.0</td>\n      <td>0</td>\n    </tr>\n    <tr>\n      <th>28</th>\n      <td>KitchenAbvGr</td>\n      <td>95.0</td>\n      <td>1</td>\n    </tr>\n    <tr>\n      <th>29</th>\n      <td>WoodDeckSF</td>\n      <td>52.0</td>\n      <td>0</td>\n    </tr>\n    <tr>\n      <th>30</th>\n      <td>OpenPorchSF</td>\n      <td>45.0</td>\n      <td>0</td>\n    </tr>\n    <tr>\n      <th>31</th>\n      <td>EnclosedPorch</td>\n      <td>86.0</td>\n      <td>0</td>\n    </tr>\n    <tr>\n      <th>32</th>\n      <td>3SsnPorch</td>\n      <td>98.0</td>\n      <td>0</td>\n    </tr>\n    <tr>\n      <th>33</th>\n      <td>ScreenPorch</td>\n      <td>92.0</td>\n      <td>0</td>\n    </tr>\n    <tr>\n      <th>34</th>\n      <td>PoolArea</td>\n      <td>99.0</td>\n      <td>0</td>\n    </tr>\n    <tr>\n      <th>35</th>\n      <td>MiscVal</td>\n      <td>96.0</td>\n      <td>0</td>\n    </tr>\n  </tbody>\n</table>\n</div>"
     },
     "execution_count": 40,
     "metadata": {},
     "output_type": "execute_result"
    }
   ],
   "source": [
    "text = (open('Biased columns', 'r').read())\n",
    "\n",
    "pattern = re.compile(r\"(\\w+): (\\d+)% are (.+)\")\n",
    "matches = pattern.findall(text)\n",
    "\n",
    "cols_df = pd.DataFrame(matches, columns=['feature', 'freq', 'dominant values'])\n",
    "\n",
    "# Convert 'percents' column to numeric\n",
    "cols_df['freq'] = cols_df['freq'].astype(float)\n",
    "\n",
    "# Reorder columns\n",
    "cols_df = cols_df[['feature', 'freq', 'dominant values']]\n",
    "\n",
    "cols_df"
   ],
   "metadata": {
    "collapsed": false,
    "ExecuteTime": {
     "end_time": "2024-02-09T07:22:09.922423Z",
     "start_time": "2024-02-09T07:22:09.768991Z"
    }
   },
   "execution_count": 40
  },
  {
   "cell_type": "markdown",
   "source": [
    "# Playground"
   ],
   "metadata": {
    "id": "u5iuVrrHWSn7"
   }
  },
  {
   "cell_type": "code",
   "outputs": [],
   "source": [],
   "metadata": {
    "collapsed": false
   }
  },
  {
   "cell_type": "code",
   "outputs": [],
   "source": [],
   "metadata": {
    "collapsed": false
   }
  },
  {
   "cell_type": "code",
   "outputs": [],
   "source": [],
   "metadata": {
    "collapsed": false
   }
  },
  {
   "cell_type": "markdown",
   "source": [
    "## Garage"
   ],
   "metadata": {
    "collapsed": false
   }
  },
  {
   "cell_type": "code",
   "outputs": [
    {
     "data": {
      "text/plain": "['1stFlrSF',\n '2ndFlrSF',\n '3SsnPorch',\n 'Alley',\n 'BedroomAbvGr',\n 'BldgType',\n 'BsmtCond',\n 'BsmtExposure',\n 'BsmtFinSF1',\n 'BsmtFinSF2',\n 'BsmtFinType1',\n 'BsmtFinType2',\n 'BsmtFullBath',\n 'BsmtHalfBath',\n 'BsmtQual',\n 'BsmtUnfSF',\n 'CentralAir',\n 'Condition1',\n 'Condition2',\n 'Electrical',\n 'EnclosedPorch',\n 'ExterCond',\n 'ExterQual',\n 'Exterior1st',\n 'Exterior2nd',\n 'Fence',\n 'FireplaceQu',\n 'Fireplaces',\n 'Foundation',\n 'FullBath',\n 'Functional',\n 'GarageArea',\n 'GarageCars',\n 'GarageCond',\n 'GarageFinish',\n 'GarageQual',\n 'GarageType',\n 'GarageYrBlt',\n 'GrLivArea',\n 'HalfBath',\n 'Heating',\n 'HeatingQC',\n 'HouseStyle',\n 'Id',\n 'KitchenAbvGr',\n 'KitchenQual',\n 'LandContour',\n 'LandSlope',\n 'LotArea',\n 'LotConfig',\n 'LotFrontage',\n 'LotShape',\n 'LowQualFinSF',\n 'MSSubClass',\n 'MSZoning',\n 'MasVnrArea',\n 'MasVnrType',\n 'MiscFeature',\n 'MiscVal',\n 'MoSold',\n 'Neighborhood',\n 'OpenPorchSF',\n 'OverallCond',\n 'OverallQual',\n 'PavedDrive',\n 'PoolArea',\n 'PoolQC',\n 'RoofMatl',\n 'RoofStyle',\n 'SaleCondition',\n 'SaleType',\n 'ScreenPorch',\n 'Street',\n 'TotRmsAbvGrd',\n 'TotalBsmtSF',\n 'Utilities',\n 'WoodDeckSF',\n 'YearBuilt',\n 'YearRemodAdd',\n 'YrSold']"
     },
     "execution_count": 23,
     "metadata": {},
     "output_type": "execute_result"
    }
   ],
   "source": [
    "sorted(data.columns.tolist())"
   ],
   "metadata": {
    "collapsed": false,
    "ExecuteTime": {
     "end_time": "2024-02-08T20:02:31.430503Z",
     "start_time": "2024-02-08T20:02:31.423912Z"
    }
   },
   "execution_count": 23
  },
  {
   "cell_type": "code",
   "outputs": [
    {
     "data": {
      "text/plain": "        Id  MSSubClass MSZoning  LotFrontage  LotArea Street Alley LotShape  \\\n0        1          60       RL         65.0     8450   Pave   NaN      Reg   \n1        2          20       RL         80.0     9600   Pave   NaN      Reg   \n2        3          60       RL         68.0    11250   Pave   NaN      IR1   \n3        4          70       RL         60.0     9550   Pave   NaN      IR1   \n4        5          60       RL         84.0    14260   Pave   NaN      IR1   \n...    ...         ...      ...          ...      ...    ...   ...      ...   \n1455  1456          60       RL         62.0     7917   Pave   NaN      Reg   \n1456  1457          20       RL         85.0    13175   Pave   NaN      Reg   \n1457  1458          70       RL         66.0     9042   Pave   NaN      Reg   \n1458  1459          20       RL         68.0     9717   Pave   NaN      Reg   \n1459  1460          20       RL         75.0     9937   Pave   NaN      Reg   \n\n     LandContour Utilities  ... PoolArea PoolQC  Fence MiscFeature MiscVal  \\\n0            Lvl    AllPub  ...        0    NaN    NaN         NaN       0   \n1            Lvl    AllPub  ...        0    NaN    NaN         NaN       0   \n2            Lvl    AllPub  ...        0    NaN    NaN         NaN       0   \n3            Lvl    AllPub  ...        0    NaN    NaN         NaN       0   \n4            Lvl    AllPub  ...        0    NaN    NaN         NaN       0   \n...          ...       ...  ...      ...    ...    ...         ...     ...   \n1455         Lvl    AllPub  ...        0    NaN    NaN         NaN       0   \n1456         Lvl    AllPub  ...        0    NaN  MnPrv         NaN       0   \n1457         Lvl    AllPub  ...        0    NaN  GdPrv        Shed    2500   \n1458         Lvl    AllPub  ...        0    NaN    NaN         NaN       0   \n1459         Lvl    AllPub  ...        0    NaN    NaN         NaN       0   \n\n     MoSold YrSold  SaleType  SaleCondition  SalePrice  \n0         2   2008        WD         Normal     208500  \n1         5   2007        WD         Normal     181500  \n2         9   2008        WD         Normal     223500  \n3         2   2006        WD        Abnorml     140000  \n4        12   2008        WD         Normal     250000  \n...     ...    ...       ...            ...        ...  \n1455      8   2007        WD         Normal     175000  \n1456      2   2010        WD         Normal     210000  \n1457      5   2010        WD         Normal     266500  \n1458      4   2010        WD         Normal     142125  \n1459      6   2008        WD         Normal     147500  \n\n[1460 rows x 81 columns]",
      "text/html": "<div>\n<style scoped>\n    .dataframe tbody tr th:only-of-type {\n        vertical-align: middle;\n    }\n\n    .dataframe tbody tr th {\n        vertical-align: top;\n    }\n\n    .dataframe thead th {\n        text-align: right;\n    }\n</style>\n<table border=\"1\" class=\"dataframe\">\n  <thead>\n    <tr style=\"text-align: right;\">\n      <th></th>\n      <th>Id</th>\n      <th>MSSubClass</th>\n      <th>MSZoning</th>\n      <th>LotFrontage</th>\n      <th>LotArea</th>\n      <th>Street</th>\n      <th>Alley</th>\n      <th>LotShape</th>\n      <th>LandContour</th>\n      <th>Utilities</th>\n      <th>...</th>\n      <th>PoolArea</th>\n      <th>PoolQC</th>\n      <th>Fence</th>\n      <th>MiscFeature</th>\n      <th>MiscVal</th>\n      <th>MoSold</th>\n      <th>YrSold</th>\n      <th>SaleType</th>\n      <th>SaleCondition</th>\n      <th>SalePrice</th>\n    </tr>\n  </thead>\n  <tbody>\n    <tr>\n      <th>0</th>\n      <td>1</td>\n      <td>60</td>\n      <td>RL</td>\n      <td>65.0</td>\n      <td>8450</td>\n      <td>Pave</td>\n      <td>NaN</td>\n      <td>Reg</td>\n      <td>Lvl</td>\n      <td>AllPub</td>\n      <td>...</td>\n      <td>0</td>\n      <td>NaN</td>\n      <td>NaN</td>\n      <td>NaN</td>\n      <td>0</td>\n      <td>2</td>\n      <td>2008</td>\n      <td>WD</td>\n      <td>Normal</td>\n      <td>208500</td>\n    </tr>\n    <tr>\n      <th>1</th>\n      <td>2</td>\n      <td>20</td>\n      <td>RL</td>\n      <td>80.0</td>\n      <td>9600</td>\n      <td>Pave</td>\n      <td>NaN</td>\n      <td>Reg</td>\n      <td>Lvl</td>\n      <td>AllPub</td>\n      <td>...</td>\n      <td>0</td>\n      <td>NaN</td>\n      <td>NaN</td>\n      <td>NaN</td>\n      <td>0</td>\n      <td>5</td>\n      <td>2007</td>\n      <td>WD</td>\n      <td>Normal</td>\n      <td>181500</td>\n    </tr>\n    <tr>\n      <th>2</th>\n      <td>3</td>\n      <td>60</td>\n      <td>RL</td>\n      <td>68.0</td>\n      <td>11250</td>\n      <td>Pave</td>\n      <td>NaN</td>\n      <td>IR1</td>\n      <td>Lvl</td>\n      <td>AllPub</td>\n      <td>...</td>\n      <td>0</td>\n      <td>NaN</td>\n      <td>NaN</td>\n      <td>NaN</td>\n      <td>0</td>\n      <td>9</td>\n      <td>2008</td>\n      <td>WD</td>\n      <td>Normal</td>\n      <td>223500</td>\n    </tr>\n    <tr>\n      <th>3</th>\n      <td>4</td>\n      <td>70</td>\n      <td>RL</td>\n      <td>60.0</td>\n      <td>9550</td>\n      <td>Pave</td>\n      <td>NaN</td>\n      <td>IR1</td>\n      <td>Lvl</td>\n      <td>AllPub</td>\n      <td>...</td>\n      <td>0</td>\n      <td>NaN</td>\n      <td>NaN</td>\n      <td>NaN</td>\n      <td>0</td>\n      <td>2</td>\n      <td>2006</td>\n      <td>WD</td>\n      <td>Abnorml</td>\n      <td>140000</td>\n    </tr>\n    <tr>\n      <th>4</th>\n      <td>5</td>\n      <td>60</td>\n      <td>RL</td>\n      <td>84.0</td>\n      <td>14260</td>\n      <td>Pave</td>\n      <td>NaN</td>\n      <td>IR1</td>\n      <td>Lvl</td>\n      <td>AllPub</td>\n      <td>...</td>\n      <td>0</td>\n      <td>NaN</td>\n      <td>NaN</td>\n      <td>NaN</td>\n      <td>0</td>\n      <td>12</td>\n      <td>2008</td>\n      <td>WD</td>\n      <td>Normal</td>\n      <td>250000</td>\n    </tr>\n    <tr>\n      <th>...</th>\n      <td>...</td>\n      <td>...</td>\n      <td>...</td>\n      <td>...</td>\n      <td>...</td>\n      <td>...</td>\n      <td>...</td>\n      <td>...</td>\n      <td>...</td>\n      <td>...</td>\n      <td>...</td>\n      <td>...</td>\n      <td>...</td>\n      <td>...</td>\n      <td>...</td>\n      <td>...</td>\n      <td>...</td>\n      <td>...</td>\n      <td>...</td>\n      <td>...</td>\n      <td>...</td>\n    </tr>\n    <tr>\n      <th>1455</th>\n      <td>1456</td>\n      <td>60</td>\n      <td>RL</td>\n      <td>62.0</td>\n      <td>7917</td>\n      <td>Pave</td>\n      <td>NaN</td>\n      <td>Reg</td>\n      <td>Lvl</td>\n      <td>AllPub</td>\n      <td>...</td>\n      <td>0</td>\n      <td>NaN</td>\n      <td>NaN</td>\n      <td>NaN</td>\n      <td>0</td>\n      <td>8</td>\n      <td>2007</td>\n      <td>WD</td>\n      <td>Normal</td>\n      <td>175000</td>\n    </tr>\n    <tr>\n      <th>1456</th>\n      <td>1457</td>\n      <td>20</td>\n      <td>RL</td>\n      <td>85.0</td>\n      <td>13175</td>\n      <td>Pave</td>\n      <td>NaN</td>\n      <td>Reg</td>\n      <td>Lvl</td>\n      <td>AllPub</td>\n      <td>...</td>\n      <td>0</td>\n      <td>NaN</td>\n      <td>MnPrv</td>\n      <td>NaN</td>\n      <td>0</td>\n      <td>2</td>\n      <td>2010</td>\n      <td>WD</td>\n      <td>Normal</td>\n      <td>210000</td>\n    </tr>\n    <tr>\n      <th>1457</th>\n      <td>1458</td>\n      <td>70</td>\n      <td>RL</td>\n      <td>66.0</td>\n      <td>9042</td>\n      <td>Pave</td>\n      <td>NaN</td>\n      <td>Reg</td>\n      <td>Lvl</td>\n      <td>AllPub</td>\n      <td>...</td>\n      <td>0</td>\n      <td>NaN</td>\n      <td>GdPrv</td>\n      <td>Shed</td>\n      <td>2500</td>\n      <td>5</td>\n      <td>2010</td>\n      <td>WD</td>\n      <td>Normal</td>\n      <td>266500</td>\n    </tr>\n    <tr>\n      <th>1458</th>\n      <td>1459</td>\n      <td>20</td>\n      <td>RL</td>\n      <td>68.0</td>\n      <td>9717</td>\n      <td>Pave</td>\n      <td>NaN</td>\n      <td>Reg</td>\n      <td>Lvl</td>\n      <td>AllPub</td>\n      <td>...</td>\n      <td>0</td>\n      <td>NaN</td>\n      <td>NaN</td>\n      <td>NaN</td>\n      <td>0</td>\n      <td>4</td>\n      <td>2010</td>\n      <td>WD</td>\n      <td>Normal</td>\n      <td>142125</td>\n    </tr>\n    <tr>\n      <th>1459</th>\n      <td>1460</td>\n      <td>20</td>\n      <td>RL</td>\n      <td>75.0</td>\n      <td>9937</td>\n      <td>Pave</td>\n      <td>NaN</td>\n      <td>Reg</td>\n      <td>Lvl</td>\n      <td>AllPub</td>\n      <td>...</td>\n      <td>0</td>\n      <td>NaN</td>\n      <td>NaN</td>\n      <td>NaN</td>\n      <td>0</td>\n      <td>6</td>\n      <td>2008</td>\n      <td>WD</td>\n      <td>Normal</td>\n      <td>147500</td>\n    </tr>\n  </tbody>\n</table>\n<p>1460 rows × 81 columns</p>\n</div>"
     },
     "execution_count": 39,
     "metadata": {},
     "output_type": "execute_result"
    }
   ],
   "source": [
    "df"
   ],
   "metadata": {
    "collapsed": false,
    "ExecuteTime": {
     "end_time": "2024-02-08T21:41:34.392482Z",
     "start_time": "2024-02-08T21:41:34.380677Z"
    }
   },
   "execution_count": 39
  },
  {
   "cell_type": "code",
   "outputs": [
    {
     "data": {
      "text/plain": "      YearRemodAdd  GarageArea  GarageCars GarageCond GarageFinish GarageQual  \\\n0             2003         548           2         TA          RFn         TA   \n1             1976         460           2         TA          RFn         TA   \n2             2002         608           2         TA          RFn         TA   \n3             1970         642           3         TA          Unf         TA   \n4             2000         836           3         TA          RFn         TA   \n...            ...         ...         ...        ...          ...        ...   \n1455          2000         460           2         TA          RFn         TA   \n1456          1988         500           2         TA          Unf         TA   \n1457          2006         252           1         TA          RFn         TA   \n1458          1996         240           1         TA          Unf         TA   \n1459          1965         276           1         TA          Fin         TA   \n\n     GarageType  GarageYrBlt  \n0        Attchd       2003.0  \n1        Attchd       1976.0  \n2        Attchd       2001.0  \n3        Detchd       1998.0  \n4        Attchd       2000.0  \n...         ...          ...  \n1455     Attchd       1999.0  \n1456     Attchd       1978.0  \n1457     Attchd       1941.0  \n1458     Attchd       1950.0  \n1459     Attchd       1965.0  \n\n[1460 rows x 8 columns]",
      "text/html": "<div>\n<style scoped>\n    .dataframe tbody tr th:only-of-type {\n        vertical-align: middle;\n    }\n\n    .dataframe tbody tr th {\n        vertical-align: top;\n    }\n\n    .dataframe thead th {\n        text-align: right;\n    }\n</style>\n<table border=\"1\" class=\"dataframe\">\n  <thead>\n    <tr style=\"text-align: right;\">\n      <th></th>\n      <th>YearRemodAdd</th>\n      <th>GarageArea</th>\n      <th>GarageCars</th>\n      <th>GarageCond</th>\n      <th>GarageFinish</th>\n      <th>GarageQual</th>\n      <th>GarageType</th>\n      <th>GarageYrBlt</th>\n    </tr>\n  </thead>\n  <tbody>\n    <tr>\n      <th>0</th>\n      <td>2003</td>\n      <td>548</td>\n      <td>2</td>\n      <td>TA</td>\n      <td>RFn</td>\n      <td>TA</td>\n      <td>Attchd</td>\n      <td>2003.0</td>\n    </tr>\n    <tr>\n      <th>1</th>\n      <td>1976</td>\n      <td>460</td>\n      <td>2</td>\n      <td>TA</td>\n      <td>RFn</td>\n      <td>TA</td>\n      <td>Attchd</td>\n      <td>1976.0</td>\n    </tr>\n    <tr>\n      <th>2</th>\n      <td>2002</td>\n      <td>608</td>\n      <td>2</td>\n      <td>TA</td>\n      <td>RFn</td>\n      <td>TA</td>\n      <td>Attchd</td>\n      <td>2001.0</td>\n    </tr>\n    <tr>\n      <th>3</th>\n      <td>1970</td>\n      <td>642</td>\n      <td>3</td>\n      <td>TA</td>\n      <td>Unf</td>\n      <td>TA</td>\n      <td>Detchd</td>\n      <td>1998.0</td>\n    </tr>\n    <tr>\n      <th>4</th>\n      <td>2000</td>\n      <td>836</td>\n      <td>3</td>\n      <td>TA</td>\n      <td>RFn</td>\n      <td>TA</td>\n      <td>Attchd</td>\n      <td>2000.0</td>\n    </tr>\n    <tr>\n      <th>...</th>\n      <td>...</td>\n      <td>...</td>\n      <td>...</td>\n      <td>...</td>\n      <td>...</td>\n      <td>...</td>\n      <td>...</td>\n      <td>...</td>\n    </tr>\n    <tr>\n      <th>1455</th>\n      <td>2000</td>\n      <td>460</td>\n      <td>2</td>\n      <td>TA</td>\n      <td>RFn</td>\n      <td>TA</td>\n      <td>Attchd</td>\n      <td>1999.0</td>\n    </tr>\n    <tr>\n      <th>1456</th>\n      <td>1988</td>\n      <td>500</td>\n      <td>2</td>\n      <td>TA</td>\n      <td>Unf</td>\n      <td>TA</td>\n      <td>Attchd</td>\n      <td>1978.0</td>\n    </tr>\n    <tr>\n      <th>1457</th>\n      <td>2006</td>\n      <td>252</td>\n      <td>1</td>\n      <td>TA</td>\n      <td>RFn</td>\n      <td>TA</td>\n      <td>Attchd</td>\n      <td>1941.0</td>\n    </tr>\n    <tr>\n      <th>1458</th>\n      <td>1996</td>\n      <td>240</td>\n      <td>1</td>\n      <td>TA</td>\n      <td>Unf</td>\n      <td>TA</td>\n      <td>Attchd</td>\n      <td>1950.0</td>\n    </tr>\n    <tr>\n      <th>1459</th>\n      <td>1965</td>\n      <td>276</td>\n      <td>1</td>\n      <td>TA</td>\n      <td>Fin</td>\n      <td>TA</td>\n      <td>Attchd</td>\n      <td>1965.0</td>\n    </tr>\n  </tbody>\n</table>\n<p>1460 rows × 8 columns</p>\n</div>"
     },
     "execution_count": 32,
     "metadata": {},
     "output_type": "execute_result"
    }
   ],
   "source": [
    "col = 'YearRemodAdd'\n",
    "cols = [col, 'GarageArea', 'GarageCars', 'GarageCond', 'GarageFinish', 'GarageQual', 'GarageType', 'GarageYrBlt']\n",
    "data[cols]"
   ],
   "metadata": {
    "collapsed": false,
    "ExecuteTime": {
     "end_time": "2024-02-08T21:32:57.578194Z",
     "start_time": "2024-02-08T21:32:57.566704Z"
    }
   },
   "execution_count": 32
  },
  {
   "cell_type": "code",
   "outputs": [
    {
     "data": {
      "text/plain": "81"
     },
     "execution_count": 28,
     "metadata": {},
     "output_type": "execute_result"
    }
   ],
   "source": [
    "1460 - 1379"
   ],
   "metadata": {
    "collapsed": false,
    "ExecuteTime": {
     "end_time": "2024-02-08T20:11:22.772796Z",
     "start_time": "2024-02-08T20:11:22.767223Z"
    }
   },
   "execution_count": 28
  },
  {
   "cell_type": "markdown",
   "metadata": {
    "id": "3sUoCe6QWWHx"
   },
   "source": [
    "## End"
   ]
  }
 ],
 "metadata": {
  "colab": {
   "provenance": [],
   "authorship_tag": "ABX9TyMhbvdblaxHoNPl/jH/GfA8",
   "include_colab_link": true
  },
  "kernelspec": {
   "name": "python3",
   "language": "python",
   "display_name": "Python 3 (ipykernel)"
  },
  "language_info": {
   "name": "python"
  }
 },
 "nbformat": 4,
 "nbformat_minor": 0
}
